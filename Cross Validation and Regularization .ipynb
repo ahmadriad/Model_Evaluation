{
 "cells": [
  {
   "cell_type": "markdown",
   "id": "a6532f2f",
   "metadata": {},
   "source": [
    "# Evaluating the model using cross_validation"
   ]
  },
  {
   "cell_type": "code",
   "execution_count": 1,
   "id": "9545db34",
   "metadata": {},
   "outputs": [],
   "source": [
    "import pandas as pd\n",
    "import numpy as np\n",
    "from sklearn.preprocessing import StandardScaler\n",
    "from sklearn.model_selection import train_test_split\n",
    "from keras.models import Sequential\n",
    "from keras.layers import Dense, activation\n",
    "import matplotlib.pyplot as plt\n",
    "from keras.wrappers.scikit_learn import KerasClassifier\n",
    "from sklearn.model_selection import KFold\n",
    "from sklearn.model_selection import cross_val_score\n",
    "from sklearn.model_selection import StratifiedKFold"
   ]
  },
  {
   "cell_type": "code",
   "execution_count": 2,
   "id": "f1540bff",
   "metadata": {},
   "outputs": [],
   "source": [
    "x = pd.read_csv(\"https://raw.githubusercontent.com/PacktWorkshops/The-Deep-Learning-with-Keras-Workshop/master/Chapter03/data/HCV_feats.csv\")\n",
    "y = pd.read_csv(\"https://raw.githubusercontent.com/PacktWorkshops/The-Deep-Learning-with-Keras-Workshop/master/Chapter03/data/HCV_target.csv\")"
   ]
  },
  {
   "cell_type": "code",
   "execution_count": 3,
   "id": "97443e30",
   "metadata": {},
   "outputs": [
    {
     "name": "stdout",
     "output_type": "stream",
     "text": [
      "Number of features: 28\n",
      "Number of examples: 1385\n",
      "Number of features: [0 1]\n"
     ]
    }
   ],
   "source": [
    "print(f\"Number of features: {x.shape[1]}\")\n",
    "print(f\"Number of examples: {x.shape[0]}\")\n",
    "print(f\"Number of features: {np.unique(y)}\")"
   ]
  },
  {
   "cell_type": "code",
   "execution_count": 4,
   "id": "d6543770",
   "metadata": {},
   "outputs": [],
   "source": [
    "def build_model():\n",
    "    model = Sequential()\n",
    "    model.add(Dense(4,input_dim=x.shape[1],activation = 'tanh'))\n",
    "    model.add(Dense(2,activation = 'tanh'))\n",
    "    model.add(Dense(1,activation = 'sigmoid'))\n",
    "    model.compile(loss=\"binary_crossentropy\",metrics=\"accuracy\",optimizer=\"adam\")\n",
    "    return model\n",
    "\n"
   ]
  },
  {
   "cell_type": "code",
   "execution_count": 5,
   "id": "6604458f",
   "metadata": {},
   "outputs": [
    {
     "data": {
      "text/html": [
       "<div>\n",
       "<style scoped>\n",
       "    .dataframe tbody tr th:only-of-type {\n",
       "        vertical-align: middle;\n",
       "    }\n",
       "\n",
       "    .dataframe tbody tr th {\n",
       "        vertical-align: top;\n",
       "    }\n",
       "\n",
       "    .dataframe thead th {\n",
       "        text-align: right;\n",
       "    }\n",
       "</style>\n",
       "<table border=\"1\" class=\"dataframe\">\n",
       "  <thead>\n",
       "    <tr style=\"text-align: right;\">\n",
       "      <th></th>\n",
       "      <th>Age</th>\n",
       "      <th>Gender</th>\n",
       "      <th>BMI</th>\n",
       "      <th>Fever</th>\n",
       "      <th>Nausea/Vomting</th>\n",
       "      <th>Headache</th>\n",
       "      <th>Diarrhea</th>\n",
       "      <th>Fatigue &amp; generalized bone ache</th>\n",
       "      <th>Jaundice</th>\n",
       "      <th>Epigastric pain</th>\n",
       "      <th>...</th>\n",
       "      <th>ALT 24</th>\n",
       "      <th>ALT 36</th>\n",
       "      <th>ALT 48</th>\n",
       "      <th>ALT after 24 w</th>\n",
       "      <th>RNA Base</th>\n",
       "      <th>RNA 4</th>\n",
       "      <th>RNA 12</th>\n",
       "      <th>RNA EOT</th>\n",
       "      <th>RNA EF</th>\n",
       "      <th>Baseline histological Grading</th>\n",
       "    </tr>\n",
       "  </thead>\n",
       "  <tbody>\n",
       "    <tr>\n",
       "      <th>0</th>\n",
       "      <td>1.102814</td>\n",
       "      <td>-0.979276</td>\n",
       "      <td>1.568525</td>\n",
       "      <td>0.969420</td>\n",
       "      <td>-1.005067</td>\n",
       "      <td>-0.992089</td>\n",
       "      <td>-1.005067</td>\n",
       "      <td>1.002168</td>\n",
       "      <td>0.997836</td>\n",
       "      <td>0.992089</td>\n",
       "      <td>...</td>\n",
       "      <td>-0.103412</td>\n",
       "      <td>-2.960181</td>\n",
       "      <td>-2.999471</td>\n",
       "      <td>-4.021808</td>\n",
       "      <td>0.181960</td>\n",
       "      <td>0.092882</td>\n",
       "      <td>-0.001962</td>\n",
       "      <td>-1.087692</td>\n",
       "      <td>-1.088823</td>\n",
       "      <td>0.805050</td>\n",
       "    </tr>\n",
       "    <tr>\n",
       "      <th>1</th>\n",
       "      <td>-0.036355</td>\n",
       "      <td>-0.979276</td>\n",
       "      <td>0.096039</td>\n",
       "      <td>-1.031544</td>\n",
       "      <td>0.994959</td>\n",
       "      <td>1.007974</td>\n",
       "      <td>-1.005067</td>\n",
       "      <td>1.002168</td>\n",
       "      <td>0.997836</td>\n",
       "      <td>-1.007974</td>\n",
       "      <td>...</td>\n",
       "      <td>1.118124</td>\n",
       "      <td>-0.989700</td>\n",
       "      <td>1.501857</td>\n",
       "      <td>1.493666</td>\n",
       "      <td>-1.555454</td>\n",
       "      <td>-0.171903</td>\n",
       "      <td>1.221053</td>\n",
       "      <td>0.185824</td>\n",
       "      <td>-0.972681</td>\n",
       "      <td>-1.432396</td>\n",
       "    </tr>\n",
       "    <tr>\n",
       "      <th>2</th>\n",
       "      <td>1.216730</td>\n",
       "      <td>-0.979276</td>\n",
       "      <td>1.077696</td>\n",
       "      <td>0.969420</td>\n",
       "      <td>0.994959</td>\n",
       "      <td>1.007974</td>\n",
       "      <td>0.994959</td>\n",
       "      <td>-0.997836</td>\n",
       "      <td>-1.002168</td>\n",
       "      <td>-1.007974</td>\n",
       "      <td>...</td>\n",
       "      <td>1.232643</td>\n",
       "      <td>-2.960181</td>\n",
       "      <td>-2.999471</td>\n",
       "      <td>-4.021808</td>\n",
       "      <td>-0.055972</td>\n",
       "      <td>0.166905</td>\n",
       "      <td>-1.012273</td>\n",
       "      <td>1.695069</td>\n",
       "      <td>0.999427</td>\n",
       "      <td>-1.432396</td>\n",
       "    </tr>\n",
       "    <tr>\n",
       "      <th>3</th>\n",
       "      <td>0.305396</td>\n",
       "      <td>1.021163</td>\n",
       "      <td>1.077696</td>\n",
       "      <td>-1.031544</td>\n",
       "      <td>0.994959</td>\n",
       "      <td>-0.992089</td>\n",
       "      <td>0.994959</td>\n",
       "      <td>-0.997836</td>\n",
       "      <td>0.997836</td>\n",
       "      <td>-1.007974</td>\n",
       "      <td>...</td>\n",
       "      <td>0.163799</td>\n",
       "      <td>-1.330745</td>\n",
       "      <td>-0.252898</td>\n",
       "      <td>-0.061981</td>\n",
       "      <td>1.274675</td>\n",
       "      <td>-0.416795</td>\n",
       "      <td>1.040971</td>\n",
       "      <td>1.727277</td>\n",
       "      <td>1.087139</td>\n",
       "      <td>0.059234</td>\n",
       "    </tr>\n",
       "    <tr>\n",
       "      <th>4</th>\n",
       "      <td>1.444564</td>\n",
       "      <td>-0.979276</td>\n",
       "      <td>0.832282</td>\n",
       "      <td>-1.031544</td>\n",
       "      <td>-1.005067</td>\n",
       "      <td>1.007974</td>\n",
       "      <td>-1.005067</td>\n",
       "      <td>1.002168</td>\n",
       "      <td>0.997836</td>\n",
       "      <td>0.992089</td>\n",
       "      <td>...</td>\n",
       "      <td>1.385335</td>\n",
       "      <td>0.412373</td>\n",
       "      <td>0.243011</td>\n",
       "      <td>-0.486248</td>\n",
       "      <td>0.196318</td>\n",
       "      <td>0.380636</td>\n",
       "      <td>12.069419</td>\n",
       "      <td>0.193923</td>\n",
       "      <td>-0.181303</td>\n",
       "      <td>0.307840</td>\n",
       "    </tr>\n",
       "    <tr>\n",
       "      <th>...</th>\n",
       "      <td>...</td>\n",
       "      <td>...</td>\n",
       "      <td>...</td>\n",
       "      <td>...</td>\n",
       "      <td>...</td>\n",
       "      <td>...</td>\n",
       "      <td>...</td>\n",
       "      <td>...</td>\n",
       "      <td>...</td>\n",
       "      <td>...</td>\n",
       "      <td>...</td>\n",
       "      <td>...</td>\n",
       "      <td>...</td>\n",
       "      <td>...</td>\n",
       "      <td>...</td>\n",
       "      <td>...</td>\n",
       "      <td>...</td>\n",
       "      <td>...</td>\n",
       "      <td>...</td>\n",
       "      <td>...</td>\n",
       "      <td>...</td>\n",
       "    </tr>\n",
       "    <tr>\n",
       "      <th>1380</th>\n",
       "      <td>-0.264188</td>\n",
       "      <td>-0.979276</td>\n",
       "      <td>0.096039</td>\n",
       "      <td>-1.031544</td>\n",
       "      <td>0.994959</td>\n",
       "      <td>1.007974</td>\n",
       "      <td>0.994959</td>\n",
       "      <td>-0.997836</td>\n",
       "      <td>-1.002168</td>\n",
       "      <td>-1.007974</td>\n",
       "      <td>...</td>\n",
       "      <td>1.652546</td>\n",
       "      <td>-0.762337</td>\n",
       "      <td>-1.511744</td>\n",
       "      <td>1.635088</td>\n",
       "      <td>-0.574200</td>\n",
       "      <td>-1.504642</td>\n",
       "      <td>-1.012273</td>\n",
       "      <td>-1.087692</td>\n",
       "      <td>-1.088823</td>\n",
       "      <td>1.302260</td>\n",
       "    </tr>\n",
       "    <tr>\n",
       "      <th>1381</th>\n",
       "      <td>0.988897</td>\n",
       "      <td>-0.979276</td>\n",
       "      <td>1.323110</td>\n",
       "      <td>-1.031544</td>\n",
       "      <td>0.994959</td>\n",
       "      <td>1.007974</td>\n",
       "      <td>-1.005067</td>\n",
       "      <td>-0.997836</td>\n",
       "      <td>-1.002168</td>\n",
       "      <td>-1.007974</td>\n",
       "      <td>...</td>\n",
       "      <td>0.927259</td>\n",
       "      <td>0.526054</td>\n",
       "      <td>-0.748807</td>\n",
       "      <td>1.069398</td>\n",
       "      <td>-0.309697</td>\n",
       "      <td>-1.236759</td>\n",
       "      <td>0.366648</td>\n",
       "      <td>-0.809510</td>\n",
       "      <td>-0.205921</td>\n",
       "      <td>0.059234</td>\n",
       "    </tr>\n",
       "    <tr>\n",
       "      <th>1382</th>\n",
       "      <td>-0.492022</td>\n",
       "      <td>-0.979276</td>\n",
       "      <td>-0.640203</td>\n",
       "      <td>0.969420</td>\n",
       "      <td>0.994959</td>\n",
       "      <td>-0.992089</td>\n",
       "      <td>-1.005067</td>\n",
       "      <td>-0.997836</td>\n",
       "      <td>0.997836</td>\n",
       "      <td>-1.007974</td>\n",
       "      <td>...</td>\n",
       "      <td>1.232643</td>\n",
       "      <td>0.147116</td>\n",
       "      <td>-1.702479</td>\n",
       "      <td>-1.334782</td>\n",
       "      <td>0.061369</td>\n",
       "      <td>-0.077694</td>\n",
       "      <td>1.813706</td>\n",
       "      <td>0.211971</td>\n",
       "      <td>-0.489235</td>\n",
       "      <td>-0.935186</td>\n",
       "    </tr>\n",
       "    <tr>\n",
       "      <th>1383</th>\n",
       "      <td>0.647146</td>\n",
       "      <td>-0.979276</td>\n",
       "      <td>0.096039</td>\n",
       "      <td>0.969420</td>\n",
       "      <td>-1.005067</td>\n",
       "      <td>-0.992089</td>\n",
       "      <td>0.994959</td>\n",
       "      <td>1.002168</td>\n",
       "      <td>0.997836</td>\n",
       "      <td>-1.007974</td>\n",
       "      <td>...</td>\n",
       "      <td>-1.401293</td>\n",
       "      <td>-1.330745</td>\n",
       "      <td>-0.100311</td>\n",
       "      <td>1.352243</td>\n",
       "      <td>-1.274928</td>\n",
       "      <td>-1.448806</td>\n",
       "      <td>0.795717</td>\n",
       "      <td>-1.078409</td>\n",
       "      <td>1.512293</td>\n",
       "      <td>1.302260</td>\n",
       "    </tr>\n",
       "    <tr>\n",
       "      <th>1384</th>\n",
       "      <td>0.988897</td>\n",
       "      <td>1.021163</td>\n",
       "      <td>-0.640203</td>\n",
       "      <td>-1.031544</td>\n",
       "      <td>0.994959</td>\n",
       "      <td>1.007974</td>\n",
       "      <td>0.994959</td>\n",
       "      <td>-0.997836</td>\n",
       "      <td>0.997836</td>\n",
       "      <td>-1.007974</td>\n",
       "      <td>...</td>\n",
       "      <td>1.194470</td>\n",
       "      <td>-0.724443</td>\n",
       "      <td>-0.481780</td>\n",
       "      <td>0.079442</td>\n",
       "      <td>1.694779</td>\n",
       "      <td>0.076851</td>\n",
       "      <td>-1.012273</td>\n",
       "      <td>-1.087692</td>\n",
       "      <td>-1.088823</td>\n",
       "      <td>0.805050</td>\n",
       "    </tr>\n",
       "  </tbody>\n",
       "</table>\n",
       "<p>1385 rows × 28 columns</p>\n",
       "</div>"
      ],
      "text/plain": [
       "          Age     Gender       BMI     Fever  Nausea/Vomting  Headache   \\\n",
       "0     1.102814 -0.979276  1.568525  0.969420       -1.005067  -0.992089   \n",
       "1    -0.036355 -0.979276  0.096039 -1.031544        0.994959   1.007974   \n",
       "2     1.216730 -0.979276  1.077696  0.969420        0.994959   1.007974   \n",
       "3     0.305396  1.021163  1.077696 -1.031544        0.994959  -0.992089   \n",
       "4     1.444564 -0.979276  0.832282 -1.031544       -1.005067   1.007974   \n",
       "...        ...       ...       ...       ...             ...        ...   \n",
       "1380 -0.264188 -0.979276  0.096039 -1.031544        0.994959   1.007974   \n",
       "1381  0.988897 -0.979276  1.323110 -1.031544        0.994959   1.007974   \n",
       "1382 -0.492022 -0.979276 -0.640203  0.969420        0.994959  -0.992089   \n",
       "1383  0.647146 -0.979276  0.096039  0.969420       -1.005067  -0.992089   \n",
       "1384  0.988897  1.021163 -0.640203 -1.031544        0.994959   1.007974   \n",
       "\n",
       "      Diarrhea   Fatigue & generalized bone ache   Jaundice   \\\n",
       "0     -1.005067                          1.002168   0.997836   \n",
       "1     -1.005067                          1.002168   0.997836   \n",
       "2      0.994959                         -0.997836  -1.002168   \n",
       "3      0.994959                         -0.997836   0.997836   \n",
       "4     -1.005067                          1.002168   0.997836   \n",
       "...         ...                               ...        ...   \n",
       "1380   0.994959                         -0.997836  -1.002168   \n",
       "1381  -1.005067                         -0.997836  -1.002168   \n",
       "1382  -1.005067                         -0.997836   0.997836   \n",
       "1383   0.994959                          1.002168   0.997836   \n",
       "1384   0.994959                         -0.997836   0.997836   \n",
       "\n",
       "      Epigastric pain   ...    ALT 24    ALT 36    ALT 48  ALT after 24 w  \\\n",
       "0             0.992089  ... -0.103412 -2.960181 -2.999471       -4.021808   \n",
       "1            -1.007974  ...  1.118124 -0.989700  1.501857        1.493666   \n",
       "2            -1.007974  ...  1.232643 -2.960181 -2.999471       -4.021808   \n",
       "3            -1.007974  ...  0.163799 -1.330745 -0.252898       -0.061981   \n",
       "4             0.992089  ...  1.385335  0.412373  0.243011       -0.486248   \n",
       "...                ...  ...       ...       ...       ...             ...   \n",
       "1380         -1.007974  ...  1.652546 -0.762337 -1.511744        1.635088   \n",
       "1381         -1.007974  ...  0.927259  0.526054 -0.748807        1.069398   \n",
       "1382         -1.007974  ...  1.232643  0.147116 -1.702479       -1.334782   \n",
       "1383         -1.007974  ... -1.401293 -1.330745 -0.100311        1.352243   \n",
       "1384         -1.007974  ...  1.194470 -0.724443 -0.481780        0.079442   \n",
       "\n",
       "      RNA Base     RNA 4     RNA 12   RNA EOT    RNA EF  \\\n",
       "0     0.181960  0.092882  -0.001962 -1.087692 -1.088823   \n",
       "1    -1.555454 -0.171903   1.221053  0.185824 -0.972681   \n",
       "2    -0.055972  0.166905  -1.012273  1.695069  0.999427   \n",
       "3     1.274675 -0.416795   1.040971  1.727277  1.087139   \n",
       "4     0.196318  0.380636  12.069419  0.193923 -0.181303   \n",
       "...        ...       ...        ...       ...       ...   \n",
       "1380 -0.574200 -1.504642  -1.012273 -1.087692 -1.088823   \n",
       "1381 -0.309697 -1.236759   0.366648 -0.809510 -0.205921   \n",
       "1382  0.061369 -0.077694   1.813706  0.211971 -0.489235   \n",
       "1383 -1.274928 -1.448806   0.795717 -1.078409  1.512293   \n",
       "1384  1.694779  0.076851  -1.012273 -1.087692 -1.088823   \n",
       "\n",
       "      Baseline histological Grading  \n",
       "0                          0.805050  \n",
       "1                         -1.432396  \n",
       "2                         -1.432396  \n",
       "3                          0.059234  \n",
       "4                          0.307840  \n",
       "...                             ...  \n",
       "1380                       1.302260  \n",
       "1381                       0.059234  \n",
       "1382                      -0.935186  \n",
       "1383                       1.302260  \n",
       "1384                       0.805050  \n",
       "\n",
       "[1385 rows x 28 columns]"
      ]
     },
     "execution_count": 5,
     "metadata": {},
     "output_type": "execute_result"
    }
   ],
   "source": [
    "sc = StandardScaler()\n",
    "x = pd.DataFrame(sc.fit_transform(x),columns=x.columns)\n",
    "x"
   ]
  },
  {
   "cell_type": "code",
   "execution_count": 6,
   "id": "c7b589cb",
   "metadata": {},
   "outputs": [
    {
     "name": "stderr",
     "output_type": "stream",
     "text": [
      "C:\\Users\\97155\\AppData\\Local\\Temp\\ipykernel_17936\\1840703009.py:3: DeprecationWarning: KerasClassifier is deprecated, use Sci-Keras (https://github.com/adriangb/scikeras) instead. See https://www.adriangb.com/scikeras/stable/migration.html for help migrating.\n",
      "  classifier = KerasClassifier(build_fn=build_model,epochs = 100,verbose=0, batch_size=20,shuffle=False)\n"
     ]
    }
   ],
   "source": [
    "np.random.seed(1)\n",
    "\n",
    "classifier = KerasClassifier(build_fn=build_model,epochs = 100,verbose=0, batch_size=20,shuffle=False)\n",
    "cv = StratifiedKFold(n_splits=5,shuffle=False)\n",
    "cv_score= cross_val_score(classifier,x,y,cv=cv,verbose=0)\n",
    "\n"
   ]
  },
  {
   "cell_type": "code",
   "execution_count": 7,
   "id": "a5f515a4",
   "metadata": {},
   "outputs": [
    {
     "name": "stdout",
     "output_type": "stream",
     "text": [
      "Test accuracy af folder 1 = 0.512635350227356\n",
      "Test accuracy af folder 2 = 0.5198556184768677\n",
      "Test accuracy af folder 3 = 0.5270758271217346\n",
      "Test accuracy af folder 4 = 0.5487364530563354\n",
      "Test accuracy af folder 5 = 0.5270758271217346\n",
      "\n",
      "\n",
      "final cross validation result 0.5270758152008057\n",
      "standard deviation result 0.012081734161042338\n"
     ]
    }
   ],
   "source": [
    "for f in range(5):\n",
    "    print(\"Test accuracy af folder\", f+1, \"=\", cv_score[f])\n",
    "print(\"\\n\")\n",
    "print(\"final cross validation result\", cv_score.mean())\n",
    "print(\"standard deviation result\", cv_score.std())"
   ]
  },
  {
   "cell_type": "markdown",
   "id": "c2e03631",
   "metadata": {},
   "source": [
    "# Improve the classifier"
   ]
  },
  {
   "cell_type": "code",
   "execution_count": 8,
   "id": "fc5848dc",
   "metadata": {},
   "outputs": [],
   "source": [
    "def Build_model_1():\n",
    "    model =Sequential()\n",
    "    model.add(Dense(4,input_dim=x.shape[1],activation = 'relu'))\n",
    "    model.add(Dense(4,activation = 'relu'))\n",
    "    model.add(Dense(4,activation = 'relu'))\n",
    "    model.add(Dense(1,activation=\"sigmoid\"))\n",
    "    model.compile(loss=\"binary_crossentropy\",optimizer = 'adam',metrics=\"accuracy\")\n",
    "    return model\n",
    "    \n",
    "def Build_model_2():\n",
    "    model =Sequential()\n",
    "    model.add(Dense(4,input_dim=x.shape[1],activation = 'relu'))\n",
    "    model.add(Dense(2,activation = 'relu'))\n",
    "    model.add(Dense(1,activation=\"sigmoid\"))\n",
    "    model.compile(loss=\"binary_crossentropy\",optimizer = 'adam',metrics=\"accuracy\")\n",
    "    return model\n",
    "    \n",
    "def Build_model_3():\n",
    "    model =Sequential()\n",
    "    model.add(Dense(8,input_dim=x.shape[1],activation = 'relu'))\n",
    "    model.add(Dense(8,activation = 'relu'))\n",
    "    model.add(Dense(1,activation=\"sigmoid\"))\n",
    "    model.compile(loss=\"binary_crossentropy\",optimizer = 'adam',metrics=\"accuracy\")\n",
    "    return model\n"
   ]
  },
  {
   "cell_type": "code",
   "execution_count": 9,
   "id": "046bbdbc",
   "metadata": {},
   "outputs": [
    {
     "name": "stderr",
     "output_type": "stream",
     "text": [
      "C:\\Users\\97155\\AppData\\Local\\Temp\\ipykernel_17936\\1651111781.py:6: DeprecationWarning: KerasClassifier is deprecated, use Sci-Keras (https://github.com/adriangb/scikeras) instead. See https://www.adriangb.com/scikeras/stable/migration.html for help migrating.\n",
      "  my_model = KerasClassifier(build_fn=models[m],epochs=100,verbose=0,batch_size=20,shuffle=False)\n",
      "C:\\Users\\97155\\AppData\\Local\\Temp\\ipykernel_17936\\1651111781.py:6: DeprecationWarning: KerasClassifier is deprecated, use Sci-Keras (https://github.com/adriangb/scikeras) instead. See https://www.adriangb.com/scikeras/stable/migration.html for help migrating.\n",
      "  my_model = KerasClassifier(build_fn=models[m],epochs=100,verbose=0,batch_size=20,shuffle=False)\n",
      "C:\\Users\\97155\\AppData\\Local\\Temp\\ipykernel_17936\\1651111781.py:6: DeprecationWarning: KerasClassifier is deprecated, use Sci-Keras (https://github.com/adriangb/scikeras) instead. See https://www.adriangb.com/scikeras/stable/migration.html for help migrating.\n",
      "  my_model = KerasClassifier(build_fn=models[m],epochs=100,verbose=0,batch_size=20,shuffle=False)\n"
     ]
    }
   ],
   "source": [
    "models = [Build_model_1,Build_model_2,Build_model_3]\n",
    "results=[]\n",
    "np.random.seed(42)\n",
    "\n",
    "for m in range(len(models)):\n",
    "    my_model = KerasClassifier(build_fn=models[m],epochs=100,verbose=0,batch_size=20,shuffle=False)\n",
    "    cv=KFold(n_splits=5)\n",
    "    result = cross_val_score(my_model,x,y,cv=cv)\n",
    "    results.append(result)"
   ]
  },
  {
   "cell_type": "code",
   "execution_count": 10,
   "id": "646da960",
   "metadata": {},
   "outputs": [
    {
     "name": "stdout",
     "output_type": "stream",
     "text": [
      "Total mean accuracy: 0.5184115469455719\n",
      "Total mean accuracy: 0.5119133651256561\n",
      "Total mean accuracy: 0.5032491028308869\n"
     ]
    }
   ],
   "source": [
    "\n",
    "\n",
    "for s in range(len(results)):\n",
    "    print(\"Total mean accuracy:\", abs(results[s].mean()))\n",
    "   "
   ]
  },
  {
   "cell_type": "code",
   "execution_count": 11,
   "id": "0a2a6429",
   "metadata": {},
   "outputs": [
    {
     "name": "stderr",
     "output_type": "stream",
     "text": [
      "C:\\Users\\97155\\AppData\\Local\\Temp\\ipykernel_17936\\726768232.py:6: DeprecationWarning: KerasClassifier is deprecated, use Sci-Keras (https://github.com/adriangb/scikeras) instead. See https://www.adriangb.com/scikeras/stable/migration.html for help migrating.\n",
      "  my_model = KerasClassifier(build_fn=Build_model_1,epochs=epochs[e],batch_size=batches[b],verbose=0,shuffle=False)\n",
      "C:\\Users\\97155\\AppData\\Local\\Temp\\ipykernel_17936\\726768232.py:6: DeprecationWarning: KerasClassifier is deprecated, use Sci-Keras (https://github.com/adriangb/scikeras) instead. See https://www.adriangb.com/scikeras/stable/migration.html for help migrating.\n",
      "  my_model = KerasClassifier(build_fn=Build_model_1,epochs=epochs[e],batch_size=batches[b],verbose=0,shuffle=False)\n",
      "C:\\Users\\97155\\AppData\\Local\\Temp\\ipykernel_17936\\726768232.py:6: DeprecationWarning: KerasClassifier is deprecated, use Sci-Keras (https://github.com/adriangb/scikeras) instead. See https://www.adriangb.com/scikeras/stable/migration.html for help migrating.\n",
      "  my_model = KerasClassifier(build_fn=Build_model_1,epochs=epochs[e],batch_size=batches[b],verbose=0,shuffle=False)\n",
      "C:\\Users\\97155\\AppData\\Local\\Temp\\ipykernel_17936\\726768232.py:6: DeprecationWarning: KerasClassifier is deprecated, use Sci-Keras (https://github.com/adriangb/scikeras) instead. See https://www.adriangb.com/scikeras/stable/migration.html for help migrating.\n",
      "  my_model = KerasClassifier(build_fn=Build_model_1,epochs=epochs[e],batch_size=batches[b],verbose=0,shuffle=False)\n"
     ]
    }
   ],
   "source": [
    "\n",
    "epochs=[100,200]\n",
    "batches=[10,20]\n",
    "results_1=[]\n",
    "for e in range(len(epochs)):\n",
    "    for b in range(len(batches)):\n",
    "        my_model = KerasClassifier(build_fn=Build_model_1,epochs=epochs[e],batch_size=batches[b],verbose=0,shuffle=False)\n",
    "        cv=KFold(n_splits=5)\n",
    "        result = cross_val_score(my_model,x,y,cv=cv)\n",
    "        results_1.append(result)\n",
    "        "
   ]
  },
  {
   "cell_type": "code",
   "execution_count": 12,
   "id": "7ddef24a",
   "metadata": {},
   "outputs": [
    {
     "name": "stdout",
     "output_type": "stream",
     "text": [
      "epochs: 100 Batches: 10 Total accuracy function: 0.5097472846508027\n",
      "epochs: 100 Batches: 20 Total accuracy function: 0.5039711236953736\n",
      "epochs: 200 Batches: 10 Total accuracy function: 0.5270757973194122\n",
      "epochs: 200 Batches: 20 Total accuracy function: 0.4859205722808838\n"
     ]
    }
   ],
   "source": [
    "r=0\n",
    "for e in range(len(epochs)):\n",
    "    for b in range(len(batches)):\n",
    "        print(\"epochs:\", epochs[e], \"Batches:\", batches[b], \"Total accuracy function:\", abs(results_1[r].mean()))\n",
    "        r+=1"
   ]
  },
  {
   "cell_type": "code",
   "execution_count": 13,
   "id": "ef3f8158",
   "metadata": {},
   "outputs": [
    {
     "name": "stderr",
     "output_type": "stream",
     "text": [
      "C:\\Users\\97155\\AppData\\Local\\Temp\\ipykernel_17936\\1480967812.py:18: DeprecationWarning: KerasClassifier is deprecated, use Sci-Keras (https://github.com/adriangb/scikeras) instead. See https://www.adriangb.com/scikeras/stable/migration.html for help migrating.\n",
      "  my_model = KerasClassifier(build_fn=Build_model_1,epochs=100,batch_size=20,verbose=0,shuffle=False)\n",
      "C:\\Users\\97155\\AppData\\Local\\Temp\\ipykernel_17936\\1480967812.py:18: DeprecationWarning: KerasClassifier is deprecated, use Sci-Keras (https://github.com/adriangb/scikeras) instead. See https://www.adriangb.com/scikeras/stable/migration.html for help migrating.\n",
      "  my_model = KerasClassifier(build_fn=Build_model_1,epochs=100,batch_size=20,verbose=0,shuffle=False)\n",
      "C:\\Users\\97155\\AppData\\Local\\Temp\\ipykernel_17936\\1480967812.py:18: DeprecationWarning: KerasClassifier is deprecated, use Sci-Keras (https://github.com/adriangb/scikeras) instead. See https://www.adriangb.com/scikeras/stable/migration.html for help migrating.\n",
      "  my_model = KerasClassifier(build_fn=Build_model_1,epochs=100,batch_size=20,verbose=0,shuffle=False)\n",
      "C:\\Users\\97155\\AppData\\Local\\Temp\\ipykernel_17936\\1480967812.py:18: DeprecationWarning: KerasClassifier is deprecated, use Sci-Keras (https://github.com/adriangb/scikeras) instead. See https://www.adriangb.com/scikeras/stable/migration.html for help migrating.\n",
      "  my_model = KerasClassifier(build_fn=Build_model_1,epochs=100,batch_size=20,verbose=0,shuffle=False)\n",
      "C:\\Users\\97155\\AppData\\Local\\Temp\\ipykernel_17936\\1480967812.py:18: DeprecationWarning: KerasClassifier is deprecated, use Sci-Keras (https://github.com/adriangb/scikeras) instead. See https://www.adriangb.com/scikeras/stable/migration.html for help migrating.\n",
      "  my_model = KerasClassifier(build_fn=Build_model_1,epochs=100,batch_size=20,verbose=0,shuffle=False)\n",
      "C:\\Users\\97155\\AppData\\Local\\Temp\\ipykernel_17936\\1480967812.py:18: DeprecationWarning: KerasClassifier is deprecated, use Sci-Keras (https://github.com/adriangb/scikeras) instead. See https://www.adriangb.com/scikeras/stable/migration.html for help migrating.\n",
      "  my_model = KerasClassifier(build_fn=Build_model_1,epochs=100,batch_size=20,verbose=0,shuffle=False)\n"
     ]
    }
   ],
   "source": [
    "def Build_model_1(activation='relu',optimizer= 'adam'):\n",
    "    model =Sequential()\n",
    "    model.add(Dense(4,input_dim=x.shape[1],activation = activation))\n",
    "    model.add(Dense(4,activation = activation))\n",
    "    model.add(Dense(4,activation = activation))\n",
    "    model.add(Dense(1,activation=activation))\n",
    "    model.compile(loss=\"binary_crossentropy\",optimizer = optimizer,metrics=\"accuracy\")\n",
    "    return model\n",
    "\n",
    "optimizers = ['rmsprop','adam','sgd']\n",
    "activations= ['relu','tanh']\n",
    "results_2=[]\n",
    "\n",
    "for o in range(len(optimizers)):\n",
    "    for a in range(len(activations)):\n",
    "        optimizer = optimizers[o]\n",
    "        activation = activations[a]\n",
    "        my_model = KerasClassifier(build_fn=Build_model_1,epochs=100,batch_size=20,verbose=0,shuffle=False)\n",
    "        cv= KFold(n_splits=5)\n",
    "        result= cross_val_score(my_model,x,y,cv=cv)\n",
    "        results_2.append(result)\n",
    "        "
   ]
  },
  {
   "cell_type": "code",
   "execution_count": 14,
   "id": "4021b6e2",
   "metadata": {},
   "outputs": [
    {
     "name": "stdout",
     "output_type": "stream",
     "text": [
      "optimizer: rmsprop activations: relu Total accuracy: 0.5140794217586517\n",
      "optimizer: rmsprop activations: tanh Total accuracy: 0.48303248882293703\n",
      "optimizer: adam activations: relu Total accuracy: 0.48303248882293703\n",
      "optimizer: adam activations: tanh Total accuracy: 0.505415165424347\n",
      "optimizer: sgd activations: relu Total accuracy: 0.4859205722808838\n",
      "optimizer: sgd activations: tanh Total accuracy: 0.49025270342826843\n"
     ]
    }
   ],
   "source": [
    "w=0\n",
    "for o in range(len(optimizers)):\n",
    "    for a in range(len(activations)):\n",
    "        print(\"optimizer:\", optimizers[o],\"activations:\", activations[a],\"Total accuracy:\", abs(results_2[w].mean()))\n",
    "        w+=1"
   ]
  },
  {
   "cell_type": "markdown",
   "id": "85ca6a4e",
   "metadata": {},
   "source": [
    "# Model selection"
   ]
  },
  {
   "cell_type": "code",
   "execution_count": 15,
   "id": "6b42a016",
   "metadata": {},
   "outputs": [],
   "source": [
    "x= pd.read_csv(\"https://raw.githubusercontent.com/PacktWorkshops/The-Deep-Learning-with-Keras-Workshop/master/Chapter04/data/traffic_volume_feats.csv\")\n",
    "y= pd.read_csv(\"https://raw.githubusercontent.com/PacktWorkshops/The-Deep-Learning-with-Keras-Workshop/master/Chapter04/data/traffic_volume_target.csv\")"
   ]
  },
  {
   "cell_type": "code",
   "execution_count": 16,
   "id": "67f03c8a",
   "metadata": {},
   "outputs": [
    {
     "name": "stdout",
     "output_type": "stream",
     "text": [
      "numer of examples: 10000\n",
      "number of feature: 10\n",
      "range of the output: [Volume    0\n",
      "dtype: int64, Volume    584\n",
      "dtype: int64]\n"
     ]
    }
   ],
   "source": [
    "print(\"numer of examples:\", x.shape[0])\n",
    "print(\"number of feature:\",x.shape[1])\n",
    "print(\"range of the output:\",[y.min(),y.max()])"
   ]
  },
  {
   "cell_type": "code",
   "execution_count": 17,
   "id": "f7f64c8e",
   "metadata": {},
   "outputs": [],
   "source": [
    "from keras.wrappers.scikit_learn import KerasRegressor"
   ]
  },
  {
   "cell_type": "code",
   "execution_count": 18,
   "id": "acc10504",
   "metadata": {},
   "outputs": [],
   "source": [
    "def model_1(optimizer='adam'):\n",
    "    model=Sequential()\n",
    "    model.add(Dense(10,input_dim=x.shape[1],activation=\"relu\"))\n",
    "    model.add(Dense(1))\n",
    "    model.compile(loss=\"mean_squared_error\",optimizer=optimizer)\n",
    "    return model\n",
    "def model_2(optimizer='adam'):\n",
    "    model=Sequential()\n",
    "    model.add(Dense(10,input_dim=x.shape[1],activation=\"relu\"))\n",
    "    model.add(Dense(10,activation=\"relu\"))\n",
    "    model.add(Dense(1))\n",
    "    model.compile(loss=\"mean_squared_error\",optimizer=optimizer)\n",
    "    return model\n",
    "    \n",
    "def model_3(optimizer='adam'):\n",
    "    model=Sequential()\n",
    "    model.add(Dense(10,input_dim=x.shape[1],activation=\"relu\"))\n",
    "    model.add(Dense(10,activation=\"relu\"))\n",
    "    model.add(Dense(10,activation=\"relu\"))\n",
    "    model.add(Dense(1))\n",
    "    model.compile(loss=\"mean_squared_error\",optimizer=optimizer)\n",
    "    return model\n"
   ]
  },
  {
   "cell_type": "code",
   "execution_count": 19,
   "id": "fd593bce",
   "metadata": {},
   "outputs": [],
   "source": [
    "scl= StandardScaler()\n",
    "x=scl.fit_transform(x)\n",
    "from tensorflow import random"
   ]
  },
  {
   "cell_type": "code",
   "execution_count": null,
   "id": "929d5b56",
   "metadata": {},
   "outputs": [
    {
     "name": "stderr",
     "output_type": "stream",
     "text": [
      "C:\\Users\\97155\\AppData\\Local\\Temp\\ipykernel_17936\\4115751398.py:6: DeprecationWarning: KerasRegressor is deprecated, use Sci-Keras (https://github.com/adriangb/scikeras) instead. See https://www.adriangb.com/scikeras/stable/migration.html for help migrating.\n",
      "  regressor = KerasRegressor(build_fn=models[m],epochs = 100, batch_size=5,verbose=0,shuffle=False)\n"
     ]
    }
   ],
   "source": [
    "np.random.seed(1)\n",
    "random.set_seed(1)\n",
    "models=[model_1,model_2,model_3]\n",
    "results=[]\n",
    "for m in range(len(models)):\n",
    "    regressor = KerasRegressor(build_fn=models[m],epochs = 100, batch_size=5,verbose=0,shuffle=False)\n",
    "    cv=KFold(n_splits=5)\n",
    "    resulet = cross_val_score(regressor,x,y,cv=cv)\n",
    "    results.append(resulet)"
   ]
  },
  {
   "cell_type": "code",
   "execution_count": null,
   "id": "c00f4134",
   "metadata": {},
   "outputs": [],
   "source": [
    "results"
   ]
  },
  {
   "cell_type": "code",
   "execution_count": null,
   "id": "ad9fcc5c",
   "metadata": {},
   "outputs": [],
   "source": [
    "modls=['model_1','model_2','model_3']\n",
    "for m in range(len(models)):\n",
    "    print(\"Model Number:\", modls[m],\"The total loss function:\", abs(results[m].mean()))\n",
    "    \n"
   ]
  },
  {
   "cell_type": "markdown",
   "id": "bb2ae9b0",
   "metadata": {},
   "source": [
    "# Regularization (L1/L2)"
   ]
  },
  {
   "cell_type": "code",
   "execution_count": null,
   "id": "2203e67c",
   "metadata": {},
   "outputs": [],
   "source": [
    "import pandas as pd\n",
    "import numpy as np\n",
    "from keras.models import Sequential\n",
    "from sklearn.model_selection import train_test_split\n",
    "from tensorflow import random\n",
    "from keras.layers import Dense, activation\n",
    "from keras.wrappers.scikit_learn import KerasClassifier\n",
    "import matplotlib.pyplot as plt \n",
    "from keras.regularizers import l2"
   ]
  },
  {
   "cell_type": "code",
   "execution_count": null,
   "id": "89859230",
   "metadata": {},
   "outputs": [],
   "source": [
    "x =pd.read_csv(\"https://raw.githubusercontent.com/PacktWorkshops/The-Deep-Learning-with-Keras-Workshop/master/Chapter05/data/avila-tr_feats.csv\")\n",
    "y= pd.read_csv(\"https://raw.githubusercontent.com/PacktWorkshops/The-Deep-Learning-with-Keras-Workshop/master/Chapter05/data/avila-tr_target.csv\")"
   ]
  },
  {
   "cell_type": "code",
   "execution_count": null,
   "id": "be4b705e",
   "metadata": {},
   "outputs": [],
   "source": [
    "seed=32\n",
    "x_train,x_test,y_train,y_test=train_test_split(x,y,test_size=.2,random_state=seed)"
   ]
  },
  {
   "cell_type": "code",
   "execution_count": null,
   "id": "248442ec",
   "metadata": {},
   "outputs": [],
   "source": [
    "np.random.seed(seed)\n",
    "random.set_seed(seed)\n",
    "    \n",
    "model =Sequential()\n",
    "model.add(Dense(10, input_dim=x.shape[1], activation='relu'))\n",
    "model.add(Dense(6,activation='relu'))\n",
    "model.add(Dense(4,activation='relu'))\n",
    "model.add(Dense(1,activation='sigmoid'))\n",
    "    \n",
    "model.compile(loss='binary_crossentropy',optimizer='sgd',metrics='accuracy')\n"
   ]
  },
  {
   "cell_type": "code",
   "execution_count": null,
   "id": "81c72228",
   "metadata": {},
   "outputs": [],
   "source": [
    "np.random.seed(seed)\n",
    "random.set_seed(seed)\n",
    "history=model.fit(x_train,y_train,epochs=100,batch_size=20,validation_data=(x_test,y_test),verbose=0,shuffle=False)"
   ]
  },
  {
   "cell_type": "code",
   "execution_count": null,
   "id": "59ff0eca",
   "metadata": {},
   "outputs": [],
   "source": [
    "np.random.seed(seed)\n",
    "random.set_seed(seed)\n",
    "plt.plot(history.history['loss'],label=\"loss\")\n",
    "plt.plot(history.history['val_loss'],label=\"val_loss\")\n",
    "plt.ylim(0,1)\n",
    "plt.xlabel(\"epochs\")\n",
    "plt.ylabel(\"loss\")\n",
    "plt.legend()"
   ]
  },
  {
   "cell_type": "code",
   "execution_count": null,
   "id": "f1e17bd2",
   "metadata": {},
   "outputs": [],
   "source": [
    "print(\"best accuracy :\",max(history.history[\"accuracy\"]))"
   ]
  },
  {
   "cell_type": "code",
   "execution_count": null,
   "id": "27648743",
   "metadata": {},
   "outputs": [],
   "source": [
    "from keras.models import Sequential\n",
    "from keras.layers import Dense\n",
    "from keras.regularizers import l2\n",
    "np.random.seed(seed)\n",
    "random.set_seed(seed)\n",
    "model_2 = Sequential()\n",
    "model_2.add(Dense(10, input_dim=x.shape[1], activation='relu', kernel_regularizer=l2(0.01)))\n",
    "model_2.add(Dense(6, activation='relu', kernel_regularizer=l2(0.01)))\n",
    "model_2.add(Dense(4, activation='relu', kernel_regularizer=l2(0.01)))\n",
    "model_2.add(Dense(1, activation='sigmoid'))\n",
    "model_2.compile(loss='binary_crossentropy',optimizer='sgd',metrics='accuracy')\n",
    "history=model_2.fit(x_train,y_train,epochs=100,batch_size=20,validation_data=(x_test,y_test),verbose=0,shuffle=False)\n",
    "\n",
    "plt.plot(history.history['loss'],label=\"loss\")\n",
    "plt.plot(history.history['val_loss'],label=\"val_loss\")\n",
    "plt.ylim(0,1)\n",
    "plt.xlabel(\"epochs\")\n",
    "plt.ylabel(\"loss\")\n",
    "plt.legend()\n",
    "\n",
    "print(\"best accuracy :\",max(history.history[\"val_accuracy\"]))"
   ]
  },
  {
   "cell_type": "code",
   "execution_count": null,
   "id": "4e3825c9",
   "metadata": {},
   "outputs": [],
   "source": [
    "from keras.models import Sequential\n",
    "from keras.layers import Dense\n",
    "from keras.regularizers import l2\n",
    "np.random.seed(seed)\n",
    "random.set_seed(seed)\n",
    "model_3 = Sequential()\n",
    "model_3.add(Dense(10, input_dim=x.shape[1], activation='relu', kernel_regularizer=l2(0.1)))\n",
    "model_3.add(Dense(6, activation='relu', kernel_regularizer=l2(0.1)))\n",
    "model_3.add(Dense(4, activation='relu', kernel_regularizer=l2(0.1)))\n",
    "model_3.add(Dense(1, activation='sigmoid'))\n",
    "model_3.compile(loss='binary_crossentropy',optimizer='sgd',metrics='accuracy')\n",
    "history=model_3.fit(x_train,y_train,epochs=100,batch_size=20,validation_data=(x_test,y_test),verbose=0,shuffle=False)\n",
    "\n",
    "plt.plot(history.history['loss'],label=\"loss\")\n",
    "plt.plot(history.history['val_loss'],label=\"val_loss\")\n",
    "plt.ylim(0,1)\n",
    "plt.xlabel(\"epochs\")\n",
    "plt.ylabel(\"loss\")\n",
    "plt.legend()\n",
    "\n",
    "print(\"best accuracy :\",max(history.history[\"val_accuracy\"]))"
   ]
  },
  {
   "cell_type": "code",
   "execution_count": null,
   "id": "214634cf",
   "metadata": {},
   "outputs": [],
   "source": [
    "from keras.models import Sequential\n",
    "from keras.layers import Dense\n",
    "from keras.regularizers import l2\n",
    "np.random.seed(seed)\n",
    "random.set_seed(seed)\n",
    "model_4 = Sequential()\n",
    "model_4.add(Dense(10, input_dim=x.shape[1], activation='relu', kernel_regularizer=l2(0.005)))\n",
    "model_4.add(Dense(6, activation='relu', kernel_regularizer=l2(0.005)))\n",
    "model_4.add(Dense(4, activation='relu', kernel_regularizer=l2(0.005)))\n",
    "model_4.add(Dense(1, activation='sigmoid'))\n",
    "model_4.compile(loss='binary_crossentropy',optimizer='sgd',metrics='accuracy')\n",
    "history=model_4.fit(x_train,y_train,epochs=100,batch_size=20,validation_data=(x_test,y_test),verbose=0,shuffle=False)\n",
    "\n",
    "plt.plot(history.history['loss'],label=\"loss\")\n",
    "plt.plot(history.history['val_loss'],label=\"val_loss\")\n",
    "plt.ylim(0,1)\n",
    "plt.xlabel(\"epochs\")\n",
    "plt.ylabel(\"loss\")\n",
    "plt.legend()\n",
    "\n",
    "print(\"best accuracy :\",max(history.history[\"val_accuracy\"]))"
   ]
  },
  {
   "cell_type": "code",
   "execution_count": null,
   "id": "e2364efb",
   "metadata": {},
   "outputs": [],
   "source": [
    "from keras.models import Sequential\n",
    "from keras.layers import Dense\n",
    "from keras.regularizers import l1_l2\n",
    "np.random.seed(seed)\n",
    "random.set_seed(seed)\n",
    "l1_pa=0.005\n",
    "l2_pa=0.005\n",
    "model_5 = Sequential()\n",
    "model_5.add(Dense(10, input_dim=x.shape[1], activation='relu', kernel_regularizer=l1_l2(l1=l1_pa,l2=l2_pa)))\n",
    "model_5.add(Dense(6, activation='relu', kernel_regularizer=l1_l2(l1=l1_pa,l2=l2_pa)))\n",
    "model_5.add(Dense(4, activation='relu', kernel_regularizer=l1_l2(l1=l1_pa,l2=l2_pa)))\n",
    "model_5.add(Dense(1, activation='sigmoid'))\n",
    "model_5.compile(loss='binary_crossentropy',optimizer='sgd',metrics='accuracy')\n",
    "history=model_5.fit(x_train,y_train,epochs=100,batch_size=20,validation_data=(x_test,y_test),verbose=0,verbose=0,shuffle=False)\n",
    "\n",
    "\n",
    "plt.plot(history.history['loss'],label=\"loss\")\n",
    "plt.plot(history.history['val_loss'],label=\"val_loss\")\n",
    "plt.ylim(0,1)\n",
    "plt.xlabel(\"epochs\")\n",
    "plt.ylabel(\"loss\")\n",
    "plt.legend()\n",
    "\n",
    "print(\"best accuracy :\",max(history.history[\"val_accuracy\"]))"
   ]
  },
  {
   "cell_type": "markdown",
   "id": "43098b13",
   "metadata": {},
   "source": [
    "# Regularization (Dropout)"
   ]
  },
  {
   "cell_type": "code",
   "execution_count": null,
   "id": "896e84b7",
   "metadata": {},
   "outputs": [],
   "source": [
    "import pandas as pd\n",
    "import numpy as np\n",
    "from keras.models import Sequential\n",
    "from keras.layers import Dense, activation,Dropout\n",
    "from sklearn.model_selection import train_test_split\n",
    "import matplotlib.pyplot  as plt"
   ]
  },
  {
   "cell_type": "code",
   "execution_count": null,
   "id": "e895193a",
   "metadata": {},
   "outputs": [],
   "source": [
    "x = pd.read_csv(\"https://raw.githubusercontent.com/PacktWorkshops/The-Deep-Learning-with-Keras-Workshop/master/Chapter05/data/traffic_volume_feats.csv\")\n",
    "y= pd.read_csv(\"https://raw.githubusercontent.com/PacktWorkshops/The-Deep-Learning-with-Keras-Workshop/master/Chapter05/data/traffic_volume_target.csv\")"
   ]
  },
  {
   "cell_type": "code",
   "execution_count": null,
   "id": "7e206289",
   "metadata": {},
   "outputs": [],
   "source": [
    "seed=1\n",
    "x_train,x_test,y_train,y_test=train_test_split(x,y,test_size=0.2,random_state=seed)"
   ]
  },
  {
   "cell_type": "code",
   "execution_count": null,
   "id": "f739eb81",
   "metadata": {},
   "outputs": [],
   "source": [
    "np.random.seed(seed)\n",
    "random.set_seed(seed)\n",
    "\n",
    "model =Sequential()\n",
    "model.add(Dense(10,input_dim=x_train.shape[1],activation =\"relu\"))\n",
    "model.add(Dense(10,activation =\"relu\"))\n",
    "model.add(Dense(1))\n",
    "model.compile(loss=\"mean_squared_error\",optimizer=\"rmsprop\")\n",
    "\n",
    "history= model.fit(x_train,y_train,epochs=200,batch_size=50,verbose=0,validation_data=(x_test,y_test),shuffle=False)"
   ]
  },
  {
   "cell_type": "code",
   "execution_count": null,
   "id": "078d0ab0",
   "metadata": {},
   "outputs": [],
   "source": [
    "plt.plot(history.history['loss'])\n",
    "plt.plot(history.history['val_loss'])\n",
    "plt.legend((\"loss\",\"vla_loss\"))\n",
    "\n",
    "plt.xlabel(\"epochs\")\n",
    "plt.ylabel('loss')\n",
    "print(\"lowest error on training set=\",min(history.history[\"loss\"]))\n",
    "print(\"lowest error on test set=\",min(history.history[\"val_loss\"]))"
   ]
  },
  {
   "cell_type": "code",
   "execution_count": null,
   "id": "aacabe5f",
   "metadata": {},
   "outputs": [],
   "source": [
    "np.random.seed(seed)\n",
    "random.set_seed(seed)\n",
    "\n",
    "model_1 =Sequential()\n",
    "model_1.add(Dense(10,input_dim=x_train.shape[1],activation =\"relu\"))\n",
    "model_1.add(Dropout(0.1))\n",
    "model_1.add(Dense(10,activation =\"relu\"))\n",
    "model_1.add(Dense(1))\n",
    "model_1.compile(loss=\"mean_squared_error\",optimizer=\"rmsprop\")\n",
    "\n",
    "history_1= model_1.fit(x_train,y_train,epochs=200,batch_size=50,verbose=0,validation_data=(x_test,y_test),shuffle=False)\n",
    "\n",
    "plt.plot(history_1.history['loss'])\n",
    "plt.plot(history_1.history['val_loss'])\n",
    "plt.legend((\"loss\",\"vla_loss\"))\n",
    "plt.xlabel(\"epochs\")\n",
    "plt.ylabel('loss')"
   ]
  },
  {
   "cell_type": "code",
   "execution_count": null,
   "id": "b8037c57",
   "metadata": {},
   "outputs": [],
   "source": [
    "print(\"lowest error on training set=\",min(history_1.history[\"loss\"]))\n",
    "print(\"lowest error on test set=\",min(history_1.history[\"val_loss\"]))"
   ]
  },
  {
   "cell_type": "code",
   "execution_count": null,
   "id": "ab83cb89",
   "metadata": {},
   "outputs": [],
   "source": [
    "np.random.seed(seed)\n",
    "random.set_seed(seed)\n",
    "\n",
    "model_2 =Sequential()\n",
    "model_2.add(Dense(10,input_dim=x_train.shape[1],activation =\"relu\"))\n",
    "model_2.add(Dropout(0.1))\n",
    "model_2.add(Dense(10,activation =\"relu\"))\n",
    "model_2.add(Dropout(0.1))\n",
    "model_2.add(Dense(1))\n",
    "model_2.compile(loss=\"mean_squared_error\",optimizer=\"rmsprop\")\n",
    "\n",
    "history_2= model_2.fit(x_train,y_train,epochs=200,batch_size=50,verbose=0,validation_data=(x_test,y_test),shuffle=False)\n",
    "\n",
    "plt.plot(history_2.history['loss'])\n",
    "plt.plot(history_2.history['val_loss'])\n",
    "plt.legend((\"loss\",\"vla_loss\"))\n",
    "plt.xlabel(\"epochs\")\n",
    "plt.ylabel('loss')\n",
    "\n",
    "print(\"lowest error on training set=\",min(history_2.history[\"loss\"]))\n",
    "print(\"lowest error on test set=\",min(history_2.history[\"val_loss\"]))"
   ]
  },
  {
   "cell_type": "code",
   "execution_count": null,
   "id": "b50df2d7",
   "metadata": {},
   "outputs": [],
   "source": [
    "np.random.seed(seed)\n",
    "random.set_seed(seed)\n",
    "\n",
    "model_3 =Sequential()\n",
    "model_3.add(Dense(10,input_dim=x_train.shape[1],activation =\"relu\"))\n",
    "model_3.add(Dropout(0.2))\n",
    "model_3.add(Dense(10,activation =\"relu\"))\n",
    "model_3.add(Dropout(0.1))\n",
    "model_3.add(Dense(1))\n",
    "model_3.compile(loss=\"mean_squared_error\",optimizer=\"rmsprop\")\n",
    "\n",
    "history_3= model_3.fit(x_train,y_train,epochs=200,batch_size=50,verbose=0,validation_data=(x_test,y_test),shuffle=False)\n",
    "\n",
    "plt.plot(history_3.history['loss'])\n",
    "plt.plot(history_3.history['val_loss'])\n",
    "plt.legend((\"loss\",\"vla_loss\"))\n",
    "plt.xlabel(\"epochs\")\n",
    "plt.ylabel('loss')\n",
    "\n",
    "print(\"lowest error on training set=\",min(history_3.history[\"loss\"]))\n",
    "print(\"lowest error on test set=\",min(history_3.history[\"val_loss\"]))"
   ]
  },
  {
   "cell_type": "markdown",
   "id": "8351b7d8",
   "metadata": {},
   "source": [
    "# Regularization (Hyperparameter Tuning)"
   ]
  },
  {
   "cell_type": "code",
   "execution_count": null,
   "id": "421c2872",
   "metadata": {},
   "outputs": [],
   "source": [
    "from sklearn.model_selection import train_test_split\n",
    "from keras.wrappers.scikit_learn import KerasRegressor\n",
    "from keras.wrappers.scikit_learn import KerasClassifier\n",
    "from sklearn.model_selection import GridSearchCV\n",
    "from sklearn.model_selection import RandomizedSearchCV"
   ]
  },
  {
   "cell_type": "code",
   "execution_count": null,
   "id": "72b27342",
   "metadata": {},
   "outputs": [],
   "source": [
    "x =pd.read_csv(\"https://raw.githubusercontent.com/PacktWorkshops/The-Deep-Learning-with-Keras-Workshop/master/Chapter05/data/avila-tr_feats.csv\")\n",
    "y= pd.read_csv(\"https://raw.githubusercontent.com/PacktWorkshops/The-Deep-Learning-with-Keras-Workshop/master/Chapter05/data/avila-tr_target.csv\")"
   ]
  },
  {
   "cell_type": "code",
   "execution_count": null,
   "id": "951a1e9e",
   "metadata": {},
   "outputs": [],
   "source": [
    "from keras.models import Sequential\n",
    "from keras.layers import Dense\n",
    "from keras.regularizers import l2\n",
    "def build_model(lambda_parameter):\n",
    "    model = Sequential()\n",
    "    model.add(Dense(10, input_dim=x.shape[1], activation='relu', kernel_regularizer=l2(lambda_parameter)))\n",
    "    model.add(Dense(6, activation='relu', kernel_regularizer=l2(lambda_parameter)))\n",
    "    model.add(Dense(4, activation='relu', kernel_regularizer=l2(lambda_parameter)))\n",
    "    model.add(Dense(1, activation='sigmoid'))\n",
    "    model.compile(loss='binary_crossentropy', optimizer='sgd', metrics=['accuracy'])\n",
    "    return model"
   ]
  },
  {
   "cell_type": "code",
   "execution_count": null,
   "id": "3703263d",
   "metadata": {},
   "outputs": [],
   "source": [
    "from keras.wrappers.scikit_learn import KerasClassifier\n",
    "from sklearn.model_selection import GridSearchCV\n",
    "import numpy as np\n",
    "from tensorflow import random\n",
    "\n",
    "seed = 1\n",
    "np.random.seed(seed)\n",
    "random.set_seed(seed)\n",
    "model = KerasClassifier(build_fn=build_model, verbose=0)\n",
    "lambda_parameter = [0.01, 0.5, 1]\n",
    "epochs = [50, 100]\n",
    "batch_size = [20]\n",
    "param_grid = dict(lambda_parameter=lambda_parameter, epochs=epochs, batch_size=batch_size)\n",
    "grid_seach = GridSearchCV(estimator=model, param_grid=param_grid, cv=5)\n",
    "results_1 = grid_seach.fit(x, y)"
   ]
  },
  {
   "cell_type": "code",
   "execution_count": null,
   "id": "8c898d6e",
   "metadata": {},
   "outputs": [],
   "source": [
    "print(\"Best cross validation score=\",results_1.best_score_)\n",
    "print(\"Parameter Best cross validation error =\",results_1.best_params_)\n",
    "accuracy_means = results_1.cv_results_['mean_test_score']\n",
    "accuracy_stds = results_1.cv_results_['std_test_score']\n",
    "parameters = results_1.cv_results_['params']\n",
    "for p in range(len(parameters)):\n",
    "    print(\"Accuracy %f (std %f) for params %r\" % (accuracy_means[p], accuracy_stds[p], parameters[p]))"
   ]
  },
  {
   "cell_type": "code",
   "execution_count": null,
   "id": "cbbafb8f",
   "metadata": {},
   "outputs": [],
   "source": [
    "from keras.models import Sequential\n",
    "from keras.layers import Dense\n",
    "\n",
    "from keras.layers import Dropout\n",
    "def build_model(rate):\n",
    "    model = Sequential()\n",
    "    model.add(Dense(10, input_dim=x.shape[1], activation='relu'))\n",
    "    model.add(Dropout(rate))\n",
    "    model.add(Dense(6, activation='relu'))\n",
    "    model.add(Dropout(rate))\n",
    "    model.add(Dense(4, activation='relu'))\n",
    "    model.add(Dropout(rate))\n",
    "    model.add(Dense(1, activation='sigmoid'))\n",
    "    model.compile(loss='binary_crossentropy', optimizer='sgd', metrics=['accuracy'])\n",
    "    return model"
   ]
  },
  {
   "cell_type": "code",
   "execution_count": null,
   "id": "327dbf2d",
   "metadata": {},
   "outputs": [],
   "source": [
    "np.random.seed(seed)\n",
    "random.set_seed(seed)\n",
    "\n",
    "model = KerasClassifier(build_fn=build_model, verbose=0)\n",
    "rate = [0, 0.1, 0.2]\n",
    "epochs = [50, 100]\n",
    "batch_size = [20]\n",
    "param_grid = dict(rate=rate, epochs=epochs, batch_size=batch_size)\n",
    "grid_seach = GridSearchCV(estimator=model, param_grid=param_grid, cv=5)\n",
    "results_3 = grid_seach.fit(x, y)"
   ]
  },
  {
   "cell_type": "code",
   "execution_count": null,
   "id": "4fd27a4b",
   "metadata": {},
   "outputs": [],
   "source": [
    "print(\"Best cross validation score=\",results_3.best_score_)\n",
    "print(\"Parameter Best cross validation error =\",results_3.best_params_)\n",
    "accuracy_means = results_3.cv_results_['mean_test_score']\n",
    "accuracy_stds = results_3.cv_results_['std_test_score']\n",
    "parameters = results_3.cv_results_['params']\n",
    "for p in range(len(parameters)):\n",
    "    print(\"Accuracy %f (std %f) for params %r\" % (accuracy_means[p], accuracy_stds[p], parameters[p]))"
   ]
  },
  {
   "cell_type": "code",
   "execution_count": null,
   "id": "d7601100",
   "metadata": {},
   "outputs": [],
   "source": []
  }
 ],
 "metadata": {
  "kernelspec": {
   "display_name": "Python 3 (ipykernel)",
   "language": "python",
   "name": "python3"
  },
  "language_info": {
   "codemirror_mode": {
    "name": "ipython",
    "version": 3
   },
   "file_extension": ".py",
   "mimetype": "text/x-python",
   "name": "python",
   "nbconvert_exporter": "python",
   "pygments_lexer": "ipython3",
   "version": "3.9.13"
  }
 },
 "nbformat": 4,
 "nbformat_minor": 5
}
